{
 "cells": [
  {
   "cell_type": "code",
   "execution_count": 58,
   "metadata": {},
   "outputs": [],
   "source": [
    "import pandas as pd\n",
    "pd.options.mode.chained_assignment = None\n",
    "from sklearn.preprocessing import LabelEncoder, StandardScaler\n",
    "from sklearn.metrics import confusion_matrix, classification_report, accuracy_score\n",
    "from sklearn.model_selection import train_test_split\n",
    "from sklearn.tree import DecisionTreeClassifier\n",
    "from matplotlib import pyplot as plt\n"
   ]
  },
  {
   "cell_type": "markdown",
   "metadata": {},
   "source": [
    "Loading and preprocessing data"
   ]
  },
  {
   "cell_type": "code",
   "execution_count": 33,
   "metadata": {},
   "outputs": [],
   "source": [
    "df_train = pd.read_csv('data/train.csv')"
   ]
  },
  {
   "cell_type": "code",
   "execution_count": 35,
   "metadata": {},
   "outputs": [],
   "source": [
    "\n",
    "def pre_proc(df):\n",
    "      df.drop(['title1_zh', 'title2_zh'], axis=1, inplace=True)\n",
    "      df.drop(['id', 'tid1', 'tid2'], axis=1, inplace=True)\n",
    "\n",
    "      df['title1_en'] = df['title1_en'].str.lower()\n",
    "      df['title2_en'] = df['title2_en'].str.lower()\n",
    "\n",
    "      df['title1_en'] = df['title1_en'].str.replace('[^\\w\\s]','')\n",
    "      df['title2_en'] = df['title2_en'].str.replace('[^\\w\\s]','')\n",
    "\n",
    "    "
   ]
  },
  {
   "cell_type": "code",
   "execution_count": 36,
   "metadata": {},
   "outputs": [],
   "source": [
    "pre_proc(df_train)"
   ]
  },
  {
   "cell_type": "markdown",
   "metadata": {},
   "source": [
    "Decision Tree"
   ]
  },
  {
   "cell_type": "code",
   "execution_count": 42,
   "metadata": {},
   "outputs": [],
   "source": [
    "def prepare_data(data):\n",
    "        x = data.iloc[:, :-1]\n",
    "        y = data.iloc[:, -1]\n",
    "\n",
    "        encoder = LabelEncoder()\n",
    "        for col in x.columns:\n",
    "            encoder.fit(x[col])\n",
    "            x[col] = encoder.transform(x[col])\n",
    "    \n",
    "        scaler = StandardScaler()\n",
    "        vals = scaler.fit_transform(x.values)\n",
    "        x.iloc[:] = vals \n",
    "\n",
    "        return x, y"
   ]
  },
  {
   "cell_type": "code",
   "execution_count": 56,
   "metadata": {},
   "outputs": [],
   "source": [
    "def metrics(data, depth):\n",
    "        x,y = prepare_data(data)\n",
    "\n",
    "        x_train, x_test, y_train, y_test = train_test_split(x, y)\n",
    "        d_tree = DecisionTreeClassifier(max_depth=depth).fit(x_train, y_train)\n",
    "        pred = d_tree.predict(x_test)\n",
    "\n",
    "        cm = confusion_matrix(y_test, pred, labels=['agreed', 'disagreed', 'unrelated'])\n",
    "        cf = classification_report(y_test, pred)\n",
    "\n",
    "        return cm, cf"
   ]
  },
  {
   "cell_type": "code",
   "execution_count": 63,
   "metadata": {},
   "outputs": [],
   "source": [
    "def show_overfitting(data):\n",
    "        x, y = prepare_data(data)\n",
    "        train_scores = list()\n",
    "        test_scores = list()\n",
    "        x_train, x_test, y_train, y_test = train_test_split(x, y)\n",
    "        \n",
    "        for i in range(1, 21):\n",
    "            d_tree = DecisionTreeClassifier(max_depth=i).fit(x_train, y_train)\n",
    "            train_pred = d_tree.predict(x_train)\n",
    "            train_scores.append(accuracy_score(y_train, train_pred))\n",
    "            test_pred = d_tree.predict(x_test)\n",
    "            test_scores.append(accuracy_score(y_test, test_pred))\n",
    "\n",
    "        plt.plot(list(range(1, 21)), train_scores, '-o', label='train')\n",
    "        plt.plot(list(range(1, 21)), test_scores, '-o', label='test')\n",
    "        plt.xlabel('Depth')\n",
    "        plt.ylabel('Accuracy')\n",
    "        plt.legend()\n",
    "        plt.show()"
   ]
  },
  {
   "cell_type": "markdown",
   "metadata": {},
   "source": [
    "Accuracy of train and test datasets for different tree depths"
   ]
  },
  {
   "cell_type": "code",
   "execution_count": 64,
   "metadata": {},
   "outputs": [
    {
     "data": {
      "image/png": "[encoded data removed]",
      "text/plain": [
       "<Figure size 432x288 with 1 Axes>"
      ]
     },
     "metadata": {
      "needs_background": "light"
     },
     "output_type": "display_data"
    }
   ],
   "source": [
    "show_overfitting(df_train)"
   ]
  },
  {
   "cell_type": "code",
   "execution_count": 59,
   "metadata": {},
   "outputs": [],
   "source": [
    "cm, cf = metrics(df_train, 10)"
   ]
  },
  {
   "cell_type": "markdown",
   "metadata": {},
   "source": [
    "Classification Report"
   ]
  },
  {
   "cell_type": "code",
   "execution_count": 61,
   "metadata": {},
   "outputs": [
    {
     "name": "stdout",
     "output_type": "stream",
     "text": [
      "              precision    recall  f1-score   support\n",
      "\n",
      "      agreed       0.60      0.07      0.13     23163\n",
      "   disagreed       0.54      0.02      0.03      2088\n",
      "   unrelated       0.70      0.98      0.81     54887\n",
      "\n",
      "    accuracy                           0.69     80138\n",
      "   macro avg       0.61      0.36      0.32     80138\n",
      "weighted avg       0.67      0.69      0.59     80138\n",
      "\n"
     ]
    }
   ],
   "source": [
    "print(cf)"
   ]
  },
  {
   "cell_type": "markdown",
   "metadata": {},
   "source": [
    "Confusion Matrix"
   ]
  },
  {
   "cell_type": "code",
   "execution_count": 62,
   "metadata": {},
   "outputs": [
    {
     "data": {
      "text/html": [
       "<div>\n",
       "<style scoped>\n",
       "    .dataframe tbody tr th:only-of-type {\n",
       "        vertical-align: middle;\n",
       "    }\n",
       "\n",
       "    .dataframe tbody tr th {\n",
       "        vertical-align: top;\n",
       "    }\n",
       "\n",
       "    .dataframe thead th {\n",
       "        text-align: right;\n",
       "    }\n",
       "</style>\n",
       "<table border=\"1\" class=\"dataframe\">\n",
       "  <thead>\n",
       "    <tr style=\"text-align: right;\">\n",
       "      <th></th>\n",
       "      <th>agreed</th>\n",
       "      <th>disagreed</th>\n",
       "      <th>unrelated</th>\n",
       "    </tr>\n",
       "  </thead>\n",
       "  <tbody>\n",
       "    <tr>\n",
       "      <th>agreed</th>\n",
       "      <td>1635</td>\n",
       "      <td>4</td>\n",
       "      <td>21524</td>\n",
       "    </tr>\n",
       "    <tr>\n",
       "      <th>disagreed</th>\n",
       "      <td>52</td>\n",
       "      <td>33</td>\n",
       "      <td>2003</td>\n",
       "    </tr>\n",
       "    <tr>\n",
       "      <th>unrelated</th>\n",
       "      <td>1020</td>\n",
       "      <td>24</td>\n",
       "      <td>53843</td>\n",
       "    </tr>\n",
       "  </tbody>\n",
       "</table>\n",
       "</div>"
      ],
      "text/plain": [
       "           agreed  disagreed  unrelated\n",
       "agreed       1635          4      21524\n",
       "disagreed      52         33       2003\n",
       "unrelated    1020         24      53843"
      ]
     },
     "execution_count": 62,
     "metadata": {},
     "output_type": "execute_result"
    }
   ],
   "source": [
    "pd.DataFrame(cm, index=['agreed', 'disagreed', 'unrelated'], columns=['agreed', 'disagreed', 'unrelated'])"
   ]
  }
 ],
 "metadata": {
  "interpreter": {
   "hash": "b636df130931d89ccbf7879357a120ac56f48d5de821ea4c94cac4bdee991edd"
  },
  "kernelspec": {
   "display_name": "Python 3",
   "language": "python",
   "name": "python3"
  },
  "language_info": {
   "codemirror_mode": {
    "name": "ipython",
    "version": 3
   },
   "file_extension": ".py",
   "mimetype": "text/x-python",
   "name": "python",
   "nbconvert_exporter": "python",
   "pygments_lexer": "ipython3",
   "version": "3.7.2"
  }
 },
 "nbformat": 4,
 "nbformat_minor": 2
}
