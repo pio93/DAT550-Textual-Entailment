{
 "cells": [
  {
   "cell_type": "code",
   "execution_count": 31,
   "metadata": {},
   "outputs": [],
   "source": [
    "import pandas as pd\n",
    "import numpy as np\n",
    "import seaborn as sns\n",
    "import matplotlib.pyplot as plt\n",
    "\n",
    "from nltk import PorterStemmer\n",
    "import torch.nn.functional as F\n",
    "import matplotlib.pyplot as plt\n",
    "from nltk.corpus import stopwords\n",
    "from sklearn.utils import resample\n",
    "from sklearn.model_selection import train_test_split\n",
    "\n",
    "from tensorflow.keras.preprocessing.text import Tokenizer\n",
    "from tensorflow.keras.preprocessing.sequence import pad_sequences"
   ]
  },
  {
   "cell_type": "markdown",
   "metadata": {},
   "source": [
    "## Read datasets"
   ]
  },
  {
   "cell_type": "code",
   "execution_count": 32,
   "metadata": {},
   "outputs": [
    {
     "name": "stdout",
     "output_type": "stream",
     "text": [
      " Shape of tran data ::  (320552, 8)\n",
      " Train data columns Index(['id', 'tid1', 'tid2', 'title1_zh', 'title2_zh', 'title1_en',\n",
      "       'title2_en', 'label'],\n",
      "      dtype='object')\n",
      " Test columns Index(['id', 'tid1', 'tid2', 'title1_zh', 'title2_zh', 'title1_en',\n",
      "       'title2_en'],\n",
      "      dtype='object')\n"
     ]
    },
    {
     "data": {
      "text/html": [
       "<div>\n",
       "<style scoped>\n",
       "    .dataframe tbody tr th:only-of-type {\n",
       "        vertical-align: middle;\n",
       "    }\n",
       "\n",
       "    .dataframe tbody tr th {\n",
       "        vertical-align: top;\n",
       "    }\n",
       "\n",
       "    .dataframe thead th {\n",
       "        text-align: right;\n",
       "    }\n",
       "</style>\n",
       "<table border=\"1\" class=\"dataframe\">\n",
       "  <thead>\n",
       "    <tr style=\"text-align: right;\">\n",
       "      <th></th>\n",
       "      <th>id</th>\n",
       "      <th>tid1</th>\n",
       "      <th>tid2</th>\n",
       "      <th>title1_zh</th>\n",
       "      <th>title2_zh</th>\n",
       "      <th>title1_en</th>\n",
       "      <th>title2_en</th>\n",
       "      <th>label</th>\n",
       "    </tr>\n",
       "  </thead>\n",
       "  <tbody>\n",
       "    <tr>\n",
       "      <th>0</th>\n",
       "      <td>0</td>\n",
       "      <td>0</td>\n",
       "      <td>1</td>\n",
       "      <td>2017养老保险又新增两项，农村老人人人可申领，你领到了吗</td>\n",
       "      <td>警方辟谣“鸟巢大会每人领5万” 仍有老人坚持进京</td>\n",
       "      <td>There are two new old-age insurance benefits for old people in rural areas. Have you got them?</td>\n",
       "      <td>Police disprove \"bird's nest congress each person gets 50,000 yuan\" still old people insist on going to beijing</td>\n",
       "      <td>unrelated</td>\n",
       "    </tr>\n",
       "    <tr>\n",
       "      <th>1</th>\n",
       "      <td>3</td>\n",
       "      <td>2</td>\n",
       "      <td>3</td>\n",
       "      <td>\"你不来深圳，早晚你儿子也要来\"，不出10年深圳人均GDP将超香港</td>\n",
       "      <td>深圳GDP首超香港？深圳统计局辟谣：只是差距在缩小</td>\n",
       "      <td>\"If you do not come to Shenzhen, sooner or later your son will also come.\" In less than 10 years, Shenzhen per capita GDP will exceed Hong Kong.</td>\n",
       "      <td>Shenzhen's GDP outstrips Hong Kong? Shenzhen Statistics Bureau dismisses rumors: only the gap is narrowing</td>\n",
       "      <td>unrelated</td>\n",
       "    </tr>\n",
       "    <tr>\n",
       "      <th>2</th>\n",
       "      <td>1</td>\n",
       "      <td>2</td>\n",
       "      <td>4</td>\n",
       "      <td>\"你不来深圳，早晚你儿子也要来\"，不出10年深圳人均GDP将超香港</td>\n",
       "      <td>GDP首超香港？深圳澄清：还差一点点……</td>\n",
       "      <td>\"If you do not come to Shenzhen, sooner or later your son will also come.\" In less than 10 years, Shenzhen per capita GDP will exceed Hong Kong.</td>\n",
       "      <td>The GDP overtopped Hong Kong? Shenzhen clarified: a little bit more......</td>\n",
       "      <td>unrelated</td>\n",
       "    </tr>\n",
       "    <tr>\n",
       "      <th>3</th>\n",
       "      <td>2</td>\n",
       "      <td>2</td>\n",
       "      <td>5</td>\n",
       "      <td>\"你不来深圳，早晚你儿子也要来\"，不出10年深圳人均GDP将超香港</td>\n",
       "      <td>去年深圳GDP首超香港？深圳统计局辟谣：还差611亿</td>\n",
       "      <td>\"If you do not come to Shenzhen, sooner or later your son will also come.\" In less than 10 years, Shenzhen per capita GDP will exceed Hong Kong.</td>\n",
       "      <td>Shenzhen's GDP topped Hong Kong last year? Shenzhen Bureau of Statistics refutes rumors: 61.1 billion</td>\n",
       "      <td>unrelated</td>\n",
       "    </tr>\n",
       "    <tr>\n",
       "      <th>4</th>\n",
       "      <td>9</td>\n",
       "      <td>6</td>\n",
       "      <td>7</td>\n",
       "      <td>\"用大蒜鉴别地沟油的方法,怎么鉴别地沟油</td>\n",
       "      <td>吃了30年食用油才知道，一片大蒜轻松鉴别地沟油</td>\n",
       "      <td>\"How to discriminate oil from gutter oil by means of garlic.</td>\n",
       "      <td>It took 30 years of cooking oil to know that one piece of garlic is easy to spot.</td>\n",
       "      <td>agreed</td>\n",
       "    </tr>\n",
       "  </tbody>\n",
       "</table>\n",
       "</div>"
      ],
      "text/plain": [
       "   id  tid1  tid2                          title1_zh  \\\n",
       "0  0   0     1      2017养老保险又新增两项，农村老人人人可申领，你领到了吗      \n",
       "1  3   2     3     \"你不来深圳，早晚你儿子也要来\"，不出10年深圳人均GDP将超香港   \n",
       "2  1   2     4     \"你不来深圳，早晚你儿子也要来\"，不出10年深圳人均GDP将超香港   \n",
       "3  2   2     5     \"你不来深圳，早晚你儿子也要来\"，不出10年深圳人均GDP将超香港   \n",
       "4  9   6     7     \"用大蒜鉴别地沟油的方法,怎么鉴别地沟油                \n",
       "\n",
       "                    title2_zh  \\\n",
       "0  警方辟谣“鸟巢大会每人领5万” 仍有老人坚持进京     \n",
       "1  深圳GDP首超香港？深圳统计局辟谣：只是差距在缩小    \n",
       "2  GDP首超香港？深圳澄清：还差一点点……         \n",
       "3  去年深圳GDP首超香港？深圳统计局辟谣：还差611亿   \n",
       "4  吃了30年食用油才知道，一片大蒜轻松鉴别地沟油      \n",
       "\n",
       "                                                                                                                                          title1_en  \\\n",
       "0  There are two new old-age insurance benefits for old people in rural areas. Have you got them?                                                     \n",
       "1  \"If you do not come to Shenzhen, sooner or later your son will also come.\" In less than 10 years, Shenzhen per capita GDP will exceed Hong Kong.   \n",
       "2  \"If you do not come to Shenzhen, sooner or later your son will also come.\" In less than 10 years, Shenzhen per capita GDP will exceed Hong Kong.   \n",
       "3  \"If you do not come to Shenzhen, sooner or later your son will also come.\" In less than 10 years, Shenzhen per capita GDP will exceed Hong Kong.   \n",
       "4  \"How to discriminate oil from gutter oil by means of garlic.                                                                                       \n",
       "\n",
       "                                                                                                         title2_en  \\\n",
       "0  Police disprove \"bird's nest congress each person gets 50,000 yuan\" still old people insist on going to beijing   \n",
       "1  Shenzhen's GDP outstrips Hong Kong? Shenzhen Statistics Bureau dismisses rumors: only the gap is narrowing        \n",
       "2  The GDP overtopped Hong Kong? Shenzhen clarified: a little bit more......                                         \n",
       "3  Shenzhen's GDP topped Hong Kong last year? Shenzhen Bureau of Statistics refutes rumors: 61.1 billion             \n",
       "4  It took 30 years of cooking oil to know that one piece of garlic is easy to spot.                                 \n",
       "\n",
       "       label  \n",
       "0  unrelated  \n",
       "1  unrelated  \n",
       "2  unrelated  \n",
       "3  unrelated  \n",
       "4  agreed     "
      ]
     },
     "execution_count": 32,
     "metadata": {},
     "output_type": "execute_result"
    }
   ],
   "source": [
    "train_df= pd.read_csv(\"data/train.csv\")\n",
    "test_df = pd.read_csv('data/test.csv')\n",
    "\n",
    "print(\" Shape of tran data :: \", train_df.shape)\n",
    "print(\" Train data columns\", train_df.columns)\n",
    "print(\" Test columns\", test_df.columns)\n",
    "train_df.head()"
   ]
  },
  {
   "cell_type": "code",
   "execution_count": 33,
   "metadata": {},
   "outputs": [
    {
     "data": {
      "text/html": [
       "<div>\n",
       "<style scoped>\n",
       "    .dataframe tbody tr th:only-of-type {\n",
       "        vertical-align: middle;\n",
       "    }\n",
       "\n",
       "    .dataframe tbody tr th {\n",
       "        vertical-align: top;\n",
       "    }\n",
       "\n",
       "    .dataframe thead th {\n",
       "        text-align: right;\n",
       "    }\n",
       "</style>\n",
       "<table border=\"1\" class=\"dataframe\">\n",
       "  <thead>\n",
       "    <tr style=\"text-align: right;\">\n",
       "      <th></th>\n",
       "      <th>id</th>\n",
       "      <th>tid1</th>\n",
       "      <th>tid2</th>\n",
       "      <th>title1_zh</th>\n",
       "      <th>title2_zh</th>\n",
       "      <th>title1_en</th>\n",
       "      <th>title2_en</th>\n",
       "    </tr>\n",
       "  </thead>\n",
       "  <tbody>\n",
       "    <tr>\n",
       "      <th>0</th>\n",
       "      <td>321187</td>\n",
       "      <td>167562</td>\n",
       "      <td>59521</td>\n",
       "      <td>萨拉赫人气爆棚!埃及总统大选未参选获百万选票 现任总统压力山大</td>\n",
       "      <td>辟谣！里昂官方否认费基尔加盟利物浦，难道是价格没谈拢？</td>\n",
       "      <td>egypt 's presidential election failed to win millions of votes in egypt' s presidential election</td>\n",
       "      <td>Lyon! Lyon officials have denied that Felipe Federico has joined Liverpool. Is it true that the price has not been agreed?</td>\n",
       "    </tr>\n",
       "    <tr>\n",
       "      <th>1</th>\n",
       "      <td>321190</td>\n",
       "      <td>167564</td>\n",
       "      <td>91315</td>\n",
       "      <td>萨达姆被捕后告诫美国的一句话，发人深思</td>\n",
       "      <td>10大最让美国人相信的荒诞谣言，如蜥蜴人掌控着美国</td>\n",
       "      <td>A message from Saddam Hussein after he was captured</td>\n",
       "      <td>The Top 10 Americans believe that the Lizard Man controls the United States</td>\n",
       "    </tr>\n",
       "    <tr>\n",
       "      <th>2</th>\n",
       "      <td>321189</td>\n",
       "      <td>167563</td>\n",
       "      <td>167564</td>\n",
       "      <td>萨达姆此项计划没有此国破坏的话，美国还会对伊拉克发动战争吗</td>\n",
       "      <td>萨达姆被捕后告诫美国的一句话，发人深思</td>\n",
       "      <td>Will the United States wage war on Iraq without the destruction of Saddam Hussein?</td>\n",
       "      <td>A message from Saddam Hussein after he was captured</td>\n",
       "    </tr>\n",
       "    <tr>\n",
       "      <th>3</th>\n",
       "      <td>321193</td>\n",
       "      <td>167564</td>\n",
       "      <td>160994</td>\n",
       "      <td>萨达姆被捕后告诫美国的一句话，发人深思</td>\n",
       "      <td>被绞刑处死的萨达姆是替身？他的此男人举动击破替身谣言！</td>\n",
       "      <td>A message from Saddam Hussein after he was captured</td>\n",
       "      <td>The hanging Saddam is a surrogate? This man's move to destroy the douchebag!</td>\n",
       "    </tr>\n",
       "    <tr>\n",
       "      <th>4</th>\n",
       "      <td>321191</td>\n",
       "      <td>167564</td>\n",
       "      <td>15084</td>\n",
       "      <td>萨达姆被捕后告诫美国的一句话，发人深思</td>\n",
       "      <td>中国川贝枇杷膏在美国受到热捧？纯属谣言！</td>\n",
       "      <td>A message from Saddam Hussein after he was captured</td>\n",
       "      <td>Chinese loquat loquat plaster in America? Pure rumor!</td>\n",
       "    </tr>\n",
       "  </tbody>\n",
       "</table>\n",
       "</div>"
      ],
      "text/plain": [
       "       id    tid1    tid2                        title1_zh  \\\n",
       "0  321187  167562  59521   萨拉赫人气爆棚!埃及总统大选未参选获百万选票 现任总统压力山大   \n",
       "1  321190  167564  91315   萨达姆被捕后告诫美国的一句话，发人深思               \n",
       "2  321189  167563  167564  萨达姆此项计划没有此国破坏的话，美国还会对伊拉克发动战争吗     \n",
       "3  321193  167564  160994  萨达姆被捕后告诫美国的一句话，发人深思               \n",
       "4  321191  167564  15084   萨达姆被捕后告诫美国的一句话，发人深思               \n",
       "\n",
       "                     title2_zh  \\\n",
       "0  辟谣！里昂官方否认费基尔加盟利物浦，难道是价格没谈拢？   \n",
       "1  10大最让美国人相信的荒诞谣言，如蜥蜴人掌控着美国     \n",
       "2  萨达姆被捕后告诫美国的一句话，发人深思           \n",
       "3  被绞刑处死的萨达姆是替身？他的此男人举动击破替身谣言！   \n",
       "4  中国川贝枇杷膏在美国受到热捧？纯属谣言！          \n",
       "\n",
       "                                                                                          title1_en  \\\n",
       "0  egypt 's presidential election failed to win millions of votes in egypt' s presidential election   \n",
       "1  A message from Saddam Hussein after he was captured                                                \n",
       "2  Will the United States wage war on Iraq without the destruction of Saddam Hussein?                 \n",
       "3  A message from Saddam Hussein after he was captured                                                \n",
       "4  A message from Saddam Hussein after he was captured                                                \n",
       "\n",
       "                                                                                                                    title2_en  \n",
       "0  Lyon! Lyon officials have denied that Felipe Federico has joined Liverpool. Is it true that the price has not been agreed?  \n",
       "1  The Top 10 Americans believe that the Lizard Man controls the United States                                                 \n",
       "2  A message from Saddam Hussein after he was captured                                                                         \n",
       "3  The hanging Saddam is a surrogate? This man's move to destroy the douchebag!                                                \n",
       "4  Chinese loquat loquat plaster in America? Pure rumor!                                                                       "
      ]
     },
     "execution_count": 33,
     "metadata": {},
     "output_type": "execute_result"
    }
   ],
   "source": [
    "test_df.head()"
   ]
  },
  {
   "cell_type": "code",
   "execution_count": 34,
   "metadata": {},
   "outputs": [
    {
     "data": {
      "text/plain": [
       "count    320552.000000\n",
       "mean     16.383713    \n",
       "std      7.898818     \n",
       "min      1.000000     \n",
       "25%      12.000000    \n",
       "50%      16.000000    \n",
       "75%      20.000000    \n",
       "max      500.000000   \n",
       "Name: title1_en, dtype: float64"
      ]
     },
     "execution_count": 34,
     "metadata": {},
     "output_type": "execute_result"
    }
   ],
   "source": [
    "title1_en_len = train_df.title1_en.str.split().str.len()\n",
    "title1_en_len.describe()"
   ]
  },
  {
   "cell_type": "code",
   "execution_count": 35,
   "metadata": {},
   "outputs": [
    {
     "data": {
      "text/plain": [
       "count    320552.000000\n",
       "mean     16.572637    \n",
       "std      8.359216     \n",
       "min      0.000000     \n",
       "25%      13.000000    \n",
       "50%      16.000000    \n",
       "75%      20.000000    \n",
       "max      539.000000   \n",
       "Name: title2_en, dtype: float64"
      ]
     },
     "execution_count": 35,
     "metadata": {},
     "output_type": "execute_result"
    }
   ],
   "source": [
    "title2_en_len = train_df.title2_en.str.split().str.len()\n",
    "title2_en_len.describe()"
   ]
  },
  {
   "cell_type": "markdown",
   "metadata": {},
   "source": [
    "# Distribution of labels in the dataset"
   ]
  },
  {
   "cell_type": "code",
   "execution_count": 36,
   "metadata": {},
   "outputs": [
    {
     "data": {
      "text/plain": [
       "unrelated    219313\n",
       "agreed       92973 \n",
       "disagreed    8266  \n",
       "Name: label, dtype: int64"
      ]
     },
     "execution_count": 36,
     "metadata": {},
     "output_type": "execute_result"
    }
   ],
   "source": [
    "train_df.label.value_counts() "
   ]
  },
  {
   "cell_type": "code",
   "execution_count": 37,
   "metadata": {},
   "outputs": [
    {
     "data": {
      "image/png": "[encoded data removed]",
      "text/plain": [
       "<Figure size 432x288 with 1 Axes>"
      ]
     },
     "metadata": {
      "needs_background": "light"
     },
     "output_type": "display_data"
    }
   ],
   "source": [
    "sns.countplot(x=\"label\", data=train_df);\n",
    "plt.show()\n",
    "#pd.value_counts(train_df['label']).plot.bar()"
   ]
  },
  {
   "cell_type": "code",
   "execution_count": 38,
   "metadata": {},
   "outputs": [],
   "source": [
    "## Constants Used for cleaning the datasets\n",
    "column_names = ['id', 'tid1', 'tid2', 'title1_zh', 'title2_zh', 'title1_en', 'title2_en', 'label']\n",
    "remove_columns = ['id', 'tid1', 'tid2', 'title1_zh', 'title2_zh']\n",
    "text_features = ['title1_en', 'title2_en']"
   ]
  },
  {
   "cell_type": "code",
   "execution_count": 39,
   "metadata": {},
   "outputs": [],
   "source": [
    "train_df = train_df.drop(remove_columns,axis=1)\n",
    "test_df = test_df.drop(remove_columns,axis=1)"
   ]
  },
  {
   "cell_type": "code",
   "execution_count": 40,
   "metadata": {},
   "outputs": [
    {
     "data": {
      "text/html": [
       "<div>\n",
       "<style scoped>\n",
       "    .dataframe tbody tr th:only-of-type {\n",
       "        vertical-align: middle;\n",
       "    }\n",
       "\n",
       "    .dataframe tbody tr th {\n",
       "        vertical-align: top;\n",
       "    }\n",
       "\n",
       "    .dataframe thead th {\n",
       "        text-align: right;\n",
       "    }\n",
       "</style>\n",
       "<table border=\"1\" class=\"dataframe\">\n",
       "  <thead>\n",
       "    <tr style=\"text-align: right;\">\n",
       "      <th></th>\n",
       "      <th>title1_en</th>\n",
       "      <th>title2_en</th>\n",
       "      <th>label</th>\n",
       "    </tr>\n",
       "  </thead>\n",
       "  <tbody>\n",
       "    <tr>\n",
       "      <th>0</th>\n",
       "      <td>There are two new old-age insurance benefits for old people in rural areas. Have you got them?</td>\n",
       "      <td>Police disprove \"bird's nest congress each person gets 50,000 yuan\" still old people insist on going to beijing</td>\n",
       "      <td>unrelated</td>\n",
       "    </tr>\n",
       "    <tr>\n",
       "      <th>1</th>\n",
       "      <td>\"If you do not come to Shenzhen, sooner or later your son will also come.\" In less than 10 years, Shenzhen per capita GDP will exceed Hong Kong.</td>\n",
       "      <td>Shenzhen's GDP outstrips Hong Kong? Shenzhen Statistics Bureau dismisses rumors: only the gap is narrowing</td>\n",
       "      <td>unrelated</td>\n",
       "    </tr>\n",
       "    <tr>\n",
       "      <th>2</th>\n",
       "      <td>\"If you do not come to Shenzhen, sooner or later your son will also come.\" In less than 10 years, Shenzhen per capita GDP will exceed Hong Kong.</td>\n",
       "      <td>The GDP overtopped Hong Kong? Shenzhen clarified: a little bit more......</td>\n",
       "      <td>unrelated</td>\n",
       "    </tr>\n",
       "    <tr>\n",
       "      <th>3</th>\n",
       "      <td>\"If you do not come to Shenzhen, sooner or later your son will also come.\" In less than 10 years, Shenzhen per capita GDP will exceed Hong Kong.</td>\n",
       "      <td>Shenzhen's GDP topped Hong Kong last year? Shenzhen Bureau of Statistics refutes rumors: 61.1 billion</td>\n",
       "      <td>unrelated</td>\n",
       "    </tr>\n",
       "    <tr>\n",
       "      <th>4</th>\n",
       "      <td>\"How to discriminate oil from gutter oil by means of garlic.</td>\n",
       "      <td>It took 30 years of cooking oil to know that one piece of garlic is easy to spot.</td>\n",
       "      <td>agreed</td>\n",
       "    </tr>\n",
       "  </tbody>\n",
       "</table>\n",
       "</div>"
      ],
      "text/plain": [
       "                                                                                                                                          title1_en  \\\n",
       "0  There are two new old-age insurance benefits for old people in rural areas. Have you got them?                                                     \n",
       "1  \"If you do not come to Shenzhen, sooner or later your son will also come.\" In less than 10 years, Shenzhen per capita GDP will exceed Hong Kong.   \n",
       "2  \"If you do not come to Shenzhen, sooner or later your son will also come.\" In less than 10 years, Shenzhen per capita GDP will exceed Hong Kong.   \n",
       "3  \"If you do not come to Shenzhen, sooner or later your son will also come.\" In less than 10 years, Shenzhen per capita GDP will exceed Hong Kong.   \n",
       "4  \"How to discriminate oil from gutter oil by means of garlic.                                                                                       \n",
       "\n",
       "                                                                                                         title2_en  \\\n",
       "0  Police disprove \"bird's nest congress each person gets 50,000 yuan\" still old people insist on going to beijing   \n",
       "1  Shenzhen's GDP outstrips Hong Kong? Shenzhen Statistics Bureau dismisses rumors: only the gap is narrowing        \n",
       "2  The GDP overtopped Hong Kong? Shenzhen clarified: a little bit more......                                         \n",
       "3  Shenzhen's GDP topped Hong Kong last year? Shenzhen Bureau of Statistics refutes rumors: 61.1 billion             \n",
       "4  It took 30 years of cooking oil to know that one piece of garlic is easy to spot.                                 \n",
       "\n",
       "       label  \n",
       "0  unrelated  \n",
       "1  unrelated  \n",
       "2  unrelated  \n",
       "3  unrelated  \n",
       "4  agreed     "
      ]
     },
     "execution_count": 40,
     "metadata": {},
     "output_type": "execute_result"
    }
   ],
   "source": [
    "train_df.head()"
   ]
  },
  {
   "cell_type": "code",
   "execution_count": 41,
   "metadata": {},
   "outputs": [
    {
     "data": {
      "text/html": [
       "<div>\n",
       "<style scoped>\n",
       "    .dataframe tbody tr th:only-of-type {\n",
       "        vertical-align: middle;\n",
       "    }\n",
       "\n",
       "    .dataframe tbody tr th {\n",
       "        vertical-align: top;\n",
       "    }\n",
       "\n",
       "    .dataframe thead th {\n",
       "        text-align: right;\n",
       "    }\n",
       "</style>\n",
       "<table border=\"1\" class=\"dataframe\">\n",
       "  <thead>\n",
       "    <tr style=\"text-align: right;\">\n",
       "      <th></th>\n",
       "      <th>title1_en</th>\n",
       "      <th>title2_en</th>\n",
       "    </tr>\n",
       "  </thead>\n",
       "  <tbody>\n",
       "    <tr>\n",
       "      <th>0</th>\n",
       "      <td>egypt 's presidential election failed to win millions of votes in egypt' s presidential election</td>\n",
       "      <td>Lyon! Lyon officials have denied that Felipe Federico has joined Liverpool. Is it true that the price has not been agreed?</td>\n",
       "    </tr>\n",
       "    <tr>\n",
       "      <th>1</th>\n",
       "      <td>A message from Saddam Hussein after he was captured</td>\n",
       "      <td>The Top 10 Americans believe that the Lizard Man controls the United States</td>\n",
       "    </tr>\n",
       "    <tr>\n",
       "      <th>2</th>\n",
       "      <td>Will the United States wage war on Iraq without the destruction of Saddam Hussein?</td>\n",
       "      <td>A message from Saddam Hussein after he was captured</td>\n",
       "    </tr>\n",
       "    <tr>\n",
       "      <th>3</th>\n",
       "      <td>A message from Saddam Hussein after he was captured</td>\n",
       "      <td>The hanging Saddam is a surrogate? This man's move to destroy the douchebag!</td>\n",
       "    </tr>\n",
       "    <tr>\n",
       "      <th>4</th>\n",
       "      <td>A message from Saddam Hussein after he was captured</td>\n",
       "      <td>Chinese loquat loquat plaster in America? Pure rumor!</td>\n",
       "    </tr>\n",
       "  </tbody>\n",
       "</table>\n",
       "</div>"
      ],
      "text/plain": [
       "                                                                                          title1_en  \\\n",
       "0  egypt 's presidential election failed to win millions of votes in egypt' s presidential election   \n",
       "1  A message from Saddam Hussein after he was captured                                                \n",
       "2  Will the United States wage war on Iraq without the destruction of Saddam Hussein?                 \n",
       "3  A message from Saddam Hussein after he was captured                                                \n",
       "4  A message from Saddam Hussein after he was captured                                                \n",
       "\n",
       "                                                                                                                    title2_en  \n",
       "0  Lyon! Lyon officials have denied that Felipe Federico has joined Liverpool. Is it true that the price has not been agreed?  \n",
       "1  The Top 10 Americans believe that the Lizard Man controls the United States                                                 \n",
       "2  A message from Saddam Hussein after he was captured                                                                         \n",
       "3  The hanging Saddam is a surrogate? This man's move to destroy the douchebag!                                                \n",
       "4  Chinese loquat loquat plaster in America? Pure rumor!                                                                       "
      ]
     },
     "execution_count": 41,
     "metadata": {},
     "output_type": "execute_result"
    }
   ],
   "source": [
    "test_df.head()"
   ]
  },
  {
   "cell_type": "code",
   "execution_count": 42,
   "metadata": {},
   "outputs": [],
   "source": [
    "train_df['title']=train_df[text_features].agg(' '.join, axis=1)\n",
    "test_df['title']=test_df[text_features].agg(' '.join, axis=1)"
   ]
  },
  {
   "cell_type": "code",
   "execution_count": 43,
   "metadata": {},
   "outputs": [],
   "source": [
    "train_df = train_df[[\"title\",\"label\"]]"
   ]
  },
  {
   "cell_type": "code",
   "execution_count": 44,
   "metadata": {},
   "outputs": [
    {
     "name": "stderr",
     "output_type": "stream",
     "text": [
      "<ipython-input-44-0891b765a168>:1: FutureWarning: Passing a negative integer is deprecated in version 1.0 and will not be supported in future version. Instead, use None to not limit the column width.\n",
      "  pd.set_option('display.max_colwidth', -1)\n"
     ]
    }
   ],
   "source": [
    "pd.set_option('display.max_colwidth', -1)"
   ]
  },
  {
   "cell_type": "code",
   "execution_count": 45,
   "metadata": {},
   "outputs": [
    {
     "data": {
      "text/html": [
       "<div>\n",
       "<style scoped>\n",
       "    .dataframe tbody tr th:only-of-type {\n",
       "        vertical-align: middle;\n",
       "    }\n",
       "\n",
       "    .dataframe tbody tr th {\n",
       "        vertical-align: top;\n",
       "    }\n",
       "\n",
       "    .dataframe thead th {\n",
       "        text-align: right;\n",
       "    }\n",
       "</style>\n",
       "<table border=\"1\" class=\"dataframe\">\n",
       "  <thead>\n",
       "    <tr style=\"text-align: right;\">\n",
       "      <th></th>\n",
       "      <th>title</th>\n",
       "      <th>label</th>\n",
       "    </tr>\n",
       "  </thead>\n",
       "  <tbody>\n",
       "    <tr>\n",
       "      <th>0</th>\n",
       "      <td>There are two new old-age insurance benefits for old people in rural areas. Have you got them? Police disprove \"bird's nest congress each person gets 50,000 yuan\" still old people insist on going to beijing</td>\n",
       "      <td>unrelated</td>\n",
       "    </tr>\n",
       "    <tr>\n",
       "      <th>1</th>\n",
       "      <td>\"If you do not come to Shenzhen, sooner or later your son will also come.\" In less than 10 years, Shenzhen per capita GDP will exceed Hong Kong. Shenzhen's GDP outstrips Hong Kong? Shenzhen Statistics Bureau dismisses rumors: only the gap is narrowing</td>\n",
       "      <td>unrelated</td>\n",
       "    </tr>\n",
       "    <tr>\n",
       "      <th>2</th>\n",
       "      <td>\"If you do not come to Shenzhen, sooner or later your son will also come.\" In less than 10 years, Shenzhen per capita GDP will exceed Hong Kong. The GDP overtopped Hong Kong? Shenzhen clarified: a little bit more......</td>\n",
       "      <td>unrelated</td>\n",
       "    </tr>\n",
       "    <tr>\n",
       "      <th>3</th>\n",
       "      <td>\"If you do not come to Shenzhen, sooner or later your son will also come.\" In less than 10 years, Shenzhen per capita GDP will exceed Hong Kong. Shenzhen's GDP topped Hong Kong last year? Shenzhen Bureau of Statistics refutes rumors: 61.1 billion</td>\n",
       "      <td>unrelated</td>\n",
       "    </tr>\n",
       "    <tr>\n",
       "      <th>4</th>\n",
       "      <td>\"How to discriminate oil from gutter oil by means of garlic. It took 30 years of cooking oil to know that one piece of garlic is easy to spot.</td>\n",
       "      <td>agreed</td>\n",
       "    </tr>\n",
       "  </tbody>\n",
       "</table>\n",
       "</div>"
      ],
      "text/plain": [
       "                                                                                                                                                                                                                                                         title  \\\n",
       "0  There are two new old-age insurance benefits for old people in rural areas. Have you got them? Police disprove \"bird's nest congress each person gets 50,000 yuan\" still old people insist on going to beijing                                                \n",
       "1  \"If you do not come to Shenzhen, sooner or later your son will also come.\" In less than 10 years, Shenzhen per capita GDP will exceed Hong Kong. Shenzhen's GDP outstrips Hong Kong? Shenzhen Statistics Bureau dismisses rumors: only the gap is narrowing   \n",
       "2  \"If you do not come to Shenzhen, sooner or later your son will also come.\" In less than 10 years, Shenzhen per capita GDP will exceed Hong Kong. The GDP overtopped Hong Kong? Shenzhen clarified: a little bit more......                                    \n",
       "3  \"If you do not come to Shenzhen, sooner or later your son will also come.\" In less than 10 years, Shenzhen per capita GDP will exceed Hong Kong. Shenzhen's GDP topped Hong Kong last year? Shenzhen Bureau of Statistics refutes rumors: 61.1 billion        \n",
       "4  \"How to discriminate oil from gutter oil by means of garlic. It took 30 years of cooking oil to know that one piece of garlic is easy to spot.                                                                                                                \n",
       "\n",
       "       label  \n",
       "0  unrelated  \n",
       "1  unrelated  \n",
       "2  unrelated  \n",
       "3  unrelated  \n",
       "4  agreed     "
      ]
     },
     "execution_count": 45,
     "metadata": {},
     "output_type": "execute_result"
    }
   ],
   "source": [
    "train_df.head()"
   ]
  },
  {
   "cell_type": "code",
   "execution_count": 46,
   "metadata": {},
   "outputs": [],
   "source": [
    "test_df = test_df[[\"title\"]]"
   ]
  },
  {
   "cell_type": "code",
   "execution_count": 47,
   "metadata": {},
   "outputs": [
    {
     "data": {
      "text/html": [
       "<div>\n",
       "<style scoped>\n",
       "    .dataframe tbody tr th:only-of-type {\n",
       "        vertical-align: middle;\n",
       "    }\n",
       "\n",
       "    .dataframe tbody tr th {\n",
       "        vertical-align: top;\n",
       "    }\n",
       "\n",
       "    .dataframe thead th {\n",
       "        text-align: right;\n",
       "    }\n",
       "</style>\n",
       "<table border=\"1\" class=\"dataframe\">\n",
       "  <thead>\n",
       "    <tr style=\"text-align: right;\">\n",
       "      <th></th>\n",
       "      <th>title</th>\n",
       "    </tr>\n",
       "  </thead>\n",
       "  <tbody>\n",
       "    <tr>\n",
       "      <th>0</th>\n",
       "      <td>egypt 's presidential election failed to win millions of votes in egypt' s presidential election Lyon! Lyon officials have denied that Felipe Federico has joined Liverpool. Is it true that the price has not been agreed?</td>\n",
       "    </tr>\n",
       "    <tr>\n",
       "      <th>1</th>\n",
       "      <td>A message from Saddam Hussein after he was captured The Top 10 Americans believe that the Lizard Man controls the United States</td>\n",
       "    </tr>\n",
       "    <tr>\n",
       "      <th>2</th>\n",
       "      <td>Will the United States wage war on Iraq without the destruction of Saddam Hussein? A message from Saddam Hussein after he was captured</td>\n",
       "    </tr>\n",
       "    <tr>\n",
       "      <th>3</th>\n",
       "      <td>A message from Saddam Hussein after he was captured The hanging Saddam is a surrogate? This man's move to destroy the douchebag!</td>\n",
       "    </tr>\n",
       "    <tr>\n",
       "      <th>4</th>\n",
       "      <td>A message from Saddam Hussein after he was captured Chinese loquat loquat plaster in America? Pure rumor!</td>\n",
       "    </tr>\n",
       "  </tbody>\n",
       "</table>\n",
       "</div>"
      ],
      "text/plain": [
       "                                                                                                                                                                                                                         title\n",
       "0  egypt 's presidential election failed to win millions of votes in egypt' s presidential election Lyon! Lyon officials have denied that Felipe Federico has joined Liverpool. Is it true that the price has not been agreed?\n",
       "1  A message from Saddam Hussein after he was captured The Top 10 Americans believe that the Lizard Man controls the United States                                                                                            \n",
       "2  Will the United States wage war on Iraq without the destruction of Saddam Hussein? A message from Saddam Hussein after he was captured                                                                                     \n",
       "3  A message from Saddam Hussein after he was captured The hanging Saddam is a surrogate? This man's move to destroy the douchebag!                                                                                           \n",
       "4  A message from Saddam Hussein after he was captured Chinese loquat loquat plaster in America? Pure rumor!                                                                                                                  "
      ]
     },
     "execution_count": 47,
     "metadata": {},
     "output_type": "execute_result"
    }
   ],
   "source": [
    "test_df.head()"
   ]
  },
  {
   "cell_type": "markdown",
   "metadata": {},
   "source": [
    "# Function to Clean the Text"
   ]
  },
  {
   "cell_type": "code",
   "execution_count": 48,
   "metadata": {},
   "outputs": [],
   "source": [
    " # Defining a Function to Clean the Textual Data\n",
    "def clean_text(txt):\n",
    "    txt = txt.lower() #Lowering the text\n",
    "    txt = re.sub(r'\\W', ' ', str(txt)) # remove all special characters including apastrophie \n",
    "    txt = txt.translate(str.maketrans('', '', string.punctuation)) # remove punctuations\n",
    "    txt = ''.join([i for i in txt if not i.isdigit()]).strip() # remove digits ()\n",
    "    txt = re.sub(r'\\s+[a-zA-Z]\\s+', ' ', txt)   # remove all single characters (it's -> it s then we remove s)\n",
    "    txt = re.sub(r'\\s+', ' ', txt, flags=re.I) # Substituting multiple spaces with single space\n",
    "    txt = re.sub(r\"(http\\S+|http)\", \"\", txt) # remove links\n",
    "    txt = ' '.join([PorterStemmer().stem(word=word) for word in txt.split(\" \") \n",
    "                    if word not in stopwords.words('english') ]) # stem & remove stop words\n",
    "    return txt"
   ]
  },
  {
   "cell_type": "code",
   "execution_count": 49,
   "metadata": {},
   "outputs": [
    {
     "name": "stdout",
     "output_type": "stream",
     "text": [
      "Original Text :  \"If you do not come to Shenzhen, sooner or later your son will also come.\" In less than 10 years, Shenzhen per capita GDP will exceed Hong Kong. Shenzhen's GDP outstrips Hong Kong? Shenzhen Statistics Bureau dismisses rumors: only the gap is narrowing\n",
      "Processed Text :  come shenzhen sooner later son also come less year shenzhen per capita gdp exceed hong kong shenzhen gdp outstrip hong kong shenzhen statist bureau dismiss rumor gap narrow\n"
     ]
    }
   ],
   "source": [
    "print('Original Text : ',train_df['title'][1])  \n",
    "print('Processed Text : ',clean_text(train_df['title'][1]))"
   ]
  },
  {
   "cell_type": "markdown",
   "metadata": {},
   "source": [
    "# Applying the Function to the Dataset"
   ]
  },
  {
   "cell_type": "code",
   "execution_count": 50,
   "metadata": {},
   "outputs": [
    {
     "data": {
      "text/html": [
       "<div>\n",
       "<style scoped>\n",
       "    .dataframe tbody tr th:only-of-type {\n",
       "        vertical-align: middle;\n",
       "    }\n",
       "\n",
       "    .dataframe tbody tr th {\n",
       "        vertical-align: top;\n",
       "    }\n",
       "\n",
       "    .dataframe thead th {\n",
       "        text-align: right;\n",
       "    }\n",
       "</style>\n",
       "<table border=\"1\" class=\"dataframe\">\n",
       "  <thead>\n",
       "    <tr style=\"text-align: right;\">\n",
       "      <th></th>\n",
       "      <th>title</th>\n",
       "      <th>label</th>\n",
       "    </tr>\n",
       "  </thead>\n",
       "  <tbody>\n",
       "    <tr>\n",
       "      <th>0</th>\n",
       "      <td>two new old age insur benefit old peopl rural area got polic disprov bird nest congress person get yuan still old peopl insist go beij</td>\n",
       "      <td>unrelated</td>\n",
       "    </tr>\n",
       "    <tr>\n",
       "      <th>1</th>\n",
       "      <td>come shenzhen sooner later son also come less year shenzhen per capita gdp exceed hong kong shenzhen gdp outstrip hong kong shenzhen statist bureau dismiss rumor gap narrow</td>\n",
       "      <td>unrelated</td>\n",
       "    </tr>\n",
       "    <tr>\n",
       "      <th>2</th>\n",
       "      <td>come shenzhen sooner later son also come less year shenzhen per capita gdp exceed hong kong gdp overtop hong kong shenzhen clarifi littl bit</td>\n",
       "      <td>unrelated</td>\n",
       "    </tr>\n",
       "    <tr>\n",
       "      <th>3</th>\n",
       "      <td>come shenzhen sooner later son also come less year shenzhen per capita gdp exceed hong kong shenzhen gdp top hong kong last year shenzhen bureau statist refut rumor billion</td>\n",
       "      <td>unrelated</td>\n",
       "    </tr>\n",
       "    <tr>\n",
       "      <th>4</th>\n",
       "      <td>discrimin oil gutter oil mean garlic took year cook oil know one piec garlic easi spot</td>\n",
       "      <td>agreed</td>\n",
       "    </tr>\n",
       "    <tr>\n",
       "      <th>...</th>\n",
       "      <td>...</td>\n",
       "      <td>...</td>\n",
       "    </tr>\n",
       "    <tr>\n",
       "      <th>320547</th>\n",
       "      <td>egypt presidenti elect fail win million vote egypt presidenti elect west media expos tallahlach recommend barca agent discredit happen</td>\n",
       "      <td>unrelated</td>\n",
       "    </tr>\n",
       "    <tr>\n",
       "      <th>320548</th>\n",
       "      <td>egypt presidenti elect fail win million vote egypt presidenti elect salah agent dishonest rumour rumour barcelona</td>\n",
       "      <td>unrelated</td>\n",
       "    </tr>\n",
       "    <tr>\n",
       "      <th>320549</th>\n",
       "      <td>egypt presidenti elect fail win million vote egypt presidenti elect rumor egypt unit differ us</td>\n",
       "      <td>unrelated</td>\n",
       "    </tr>\n",
       "    <tr>\n",
       "      <th>320550</th>\n",
       "      <td>egypt presidenti elect fail win million vote egypt presidenti elect fals rumor egypt footbal associ chairman salah leav earli</td>\n",
       "      <td>unrelated</td>\n",
       "    </tr>\n",
       "    <tr>\n",
       "      <th>320551</th>\n",
       "      <td>unit state wage war iraq without destruct saddam hussein saddam daughter refut rumor saddam regim surviv</td>\n",
       "      <td>unrelated</td>\n",
       "    </tr>\n",
       "  </tbody>\n",
       "</table>\n",
       "<p>320552 rows × 2 columns</p>\n",
       "</div>"
      ],
      "text/plain": [
       "                                                                                                                                                                               title  \\\n",
       "0       two new old age insur benefit old peopl rural area got polic disprov bird nest congress person get yuan still old peopl insist go beij                                         \n",
       "1       come shenzhen sooner later son also come less year shenzhen per capita gdp exceed hong kong shenzhen gdp outstrip hong kong shenzhen statist bureau dismiss rumor gap narrow   \n",
       "2       come shenzhen sooner later son also come less year shenzhen per capita gdp exceed hong kong gdp overtop hong kong shenzhen clarifi littl bit                                   \n",
       "3       come shenzhen sooner later son also come less year shenzhen per capita gdp exceed hong kong shenzhen gdp top hong kong last year shenzhen bureau statist refut rumor billion   \n",
       "4       discrimin oil gutter oil mean garlic took year cook oil know one piec garlic easi spot                                                                                         \n",
       "...                                                                                        ...                                                                                         \n",
       "320547  egypt presidenti elect fail win million vote egypt presidenti elect west media expos tallahlach recommend barca agent discredit happen                                         \n",
       "320548  egypt presidenti elect fail win million vote egypt presidenti elect salah agent dishonest rumour rumour barcelona                                                              \n",
       "320549  egypt presidenti elect fail win million vote egypt presidenti elect rumor egypt unit differ us                                                                                 \n",
       "320550  egypt presidenti elect fail win million vote egypt presidenti elect fals rumor egypt footbal associ chairman salah leav earli                                                  \n",
       "320551  unit state wage war iraq without destruct saddam hussein saddam daughter refut rumor saddam regim surviv                                                                       \n",
       "\n",
       "            label  \n",
       "0       unrelated  \n",
       "1       unrelated  \n",
       "2       unrelated  \n",
       "3       unrelated  \n",
       "4       agreed     \n",
       "...        ...     \n",
       "320547  unrelated  \n",
       "320548  unrelated  \n",
       "320549  unrelated  \n",
       "320550  unrelated  \n",
       "320551  unrelated  \n",
       "\n",
       "[320552 rows x 2 columns]"
      ]
     },
     "execution_count": 50,
     "metadata": {},
     "output_type": "execute_result"
    }
   ],
   "source": [
    "train_df['title'] = train_df['title'].apply(clean_text) #apply the function to every text in the dataset\n",
    "train_df"
   ]
  },
  {
   "cell_type": "markdown",
   "metadata": {},
   "source": [
    "# Defining the Parameters and Tokenizer"
   ]
  },
  {
   "cell_type": "code",
   "execution_count": 51,
   "metadata": {},
   "outputs": [
    {
     "name": "stdout",
     "output_type": "stream",
     "text": [
      "Found 28549 unique tokens.\n"
     ]
    }
   ],
   "source": [
    "# The maximum number of words to be used. (most frequent)\n",
    "MAX_NB_WORDS = 2000\n",
    "# Max number of words in each Content.\n",
    "MAX_SEQUENCE_LENGTH = 600\n",
    "# This is fixed. Embedding\n",
    "EMBEDDING_DIM = 100\n",
    "tokenizer = Tokenizer(num_words=MAX_NB_WORDS, filters='!\"#$%&()*+,-./:;<=>?@[\\]^_`{|}~', lower=True)\n",
    "tokenizer.fit_on_texts(train_df['title'].values)\n",
    "word_index = tokenizer.word_index\n",
    "print('Found %s unique tokens.' % len(word_index))"
   ]
  },
  {
   "cell_type": "code",
   "execution_count": 52,
   "metadata": {},
   "outputs": [
    {
     "name": "stdout",
     "output_type": "stream",
     "text": [
      "Shape of data tensor: 600\n"
     ]
    }
   ],
   "source": [
    " #Tokenizing the title\n",
    "X = tokenizer.texts_to_sequences(train_df['title'].values)\n",
    "X = pad_sequences(X, maxlen=MAX_SEQUENCE_LENGTH)\n",
    "print('Shape of data tensor:', X.shape[1])"
   ]
  },
  {
   "cell_type": "code",
   "execution_count": 53,
   "metadata": {},
   "outputs": [
    {
     "name": "stdout",
     "output_type": "stream",
     "text": [
      "(320552,)\n",
      "['agreed' 'disagreed' 'unrelated']\n"
     ]
    },
    {
     "data": {
      "text/plain": [
       "dtype('int64')"
      ]
     },
     "execution_count": 53,
     "metadata": {},
     "output_type": "execute_result"
    }
   ],
   "source": [
    "from sklearn.preprocessing import LabelEncoder\n",
    "le = LabelEncoder()\n",
    "y = le.fit_transform(train_df['label'])\n",
    "print(y.shape)\n",
    "print(le.classes_)\n",
    "y.dtype"
   ]
  },
  {
   "cell_type": "markdown",
   "metadata": {},
   "source": [
    "# Splitting Dataset to Train and Test Data"
   ]
  },
  {
   "cell_type": "code",
   "execution_count": 54,
   "metadata": {},
   "outputs": [
    {
     "name": "stdout",
     "output_type": "stream",
     "text": [
      "(256441, 600) (256441,) (64111, 600) (64111,)\n"
     ]
    }
   ],
   "source": [
    "#Train and Test Split\n",
    "X_train, X_test, y_train, y_test = train_test_split(X, y, test_size = 0.2, stratify=y, random_state=1234)\n",
    "print(X_train.shape, y_train.shape, X_test.shape, y_test.shape)"
   ]
  },
  {
   "cell_type": "code",
   "execution_count": 55,
   "metadata": {},
   "outputs": [],
   "source": [
    "#Converting data into Torch and getting it into CPU\n",
    "x_train = torch.tensor(X_train, dtype=torch.long)\n",
    "y_train = torch.tensor(y_train, dtype=torch.long)\n",
    "x_cv = torch.tensor(X_test, dtype=torch.long)\n",
    "y_cv = torch.tensor(y_test, dtype=torch.long)"
   ]
  },
  {
   "cell_type": "markdown",
   "metadata": {},
   "source": [
    "# Converting dataset to a Torch Datset"
   ]
  },
  {
   "cell_type": "code",
   "execution_count": 56,
   "metadata": {},
   "outputs": [],
   "source": [
    "train = torch.utils.data.TensorDataset(x_train, y_train)\n",
    "valid = torch.utils.data.TensorDataset(x_cv, y_cv)"
   ]
  },
  {
   "cell_type": "code",
   "execution_count": 57,
   "metadata": {},
   "outputs": [],
   "source": [
    "# Defing the Parameters:\n",
    "max_features =  2000  \n",
    "batch_size = 50\n",
    "vocab_size = max_features\n",
    "\n",
    "# Initialising the DataLoaders\n",
    "train_dl = torch.utils.data.DataLoader(train, batch_size=batch_size, shuffle=True)\n",
    "val_dl = torch.utils.data.DataLoader(valid, batch_size=batch_size, shuffle=False)"
   ]
  },
  {
   "cell_type": "markdown",
   "metadata": {},
   "source": [
    "# Defining the Model"
   ]
  },
  {
   "cell_type": "code",
   "execution_count": 58,
   "metadata": {},
   "outputs": [],
   "source": [
    "class LSTM(torch.nn.Module) :\n",
    "    def __init__(self, vocab_size, embedding_dim, hidden_dim) : # \n",
    "        super().__init__()\n",
    "        self.hidden_dim = hidden_dim\n",
    "        self.embeddings = nn.Embedding(vocab_size, embedding_dim, padding_idx=0)\n",
    "        #2 layer lstm\n",
    "        self.lstm = nn.LSTM(embedding_dim, hidden_dim, batch_first=True)\n",
    "        self.lstm1 = nn.LSTM(hidden_dim, 64, batch_first=True)\n",
    "        #linear layer (gives the output)\n",
    "        self.linear = nn.Linear(64, 3)\n",
    "        \n",
    "    def forward(self, x):\n",
    "        x = self.embeddings(x)\n",
    "        out_pack, (ht, ct) = self.lstm(x)\n",
    "        out_pack1, (ht, ct) = self.lstm1(out_pack)\n",
    "        out = self.linear(ht[-1])\n",
    "        #out = self.softmax(out)\n",
    "        return out"
   ]
  },
  {
   "cell_type": "markdown",
   "metadata": {},
   "source": [
    "# Structure of the Model"
   ]
  },
  {
   "cell_type": "code",
   "execution_count": 59,
   "metadata": {},
   "outputs": [
    {
     "name": "stdout",
     "output_type": "stream",
     "text": [
      "LSTM(\n",
      "  (embeddings): Embedding(2000, 128, padding_idx=0)\n",
      "  (lstm): LSTM(128, 64, batch_first=True)\n",
      "  (lstm1): LSTM(64, 64, batch_first=True)\n",
      "  (linear): Linear(in_features=64, out_features=3, bias=True)\n",
      ")\n"
     ]
    }
   ],
   "source": [
    "#intializing model\n",
    "model = LSTM(vocab_size, 128,64)\n",
    "print(model)"
   ]
  },
  {
   "cell_type": "markdown",
   "metadata": {},
   "source": [
    "# Model Tranining And Validation"
   ]
  },
  {
   "cell_type": "code",
   "execution_count": null,
   "metadata": {},
   "outputs": [],
   "source": [
    "# Defining Train Loop:\n",
    "n_epochs = 10\n",
    "\n",
    "loss_fn = nn.CrossEntropyLoss() # Loss Function\n",
    "optimizer = torch.optim.Adam(model.parameters(), lr=0.001) # Optimiser\n",
    "\n",
    "train_loss = []\n",
    "valid_loss = []\n",
    "for epoch in range(n_epochs):\n",
    "    \n",
    "    start_time = time.time()\n",
    "    #Set model to train configuration\n",
    "    model.train() # indicator for training\n",
    "    avg_loss = 0.  \n",
    "    for i, (x_batch, y_batch) in enumerate(train_dl):\n",
    "        # Predict/Forward Pass\n",
    "        y_pred = model(x_batch)\n",
    "        # Compute loss\n",
    "        loss = loss_fn(y_pred, y_batch)\n",
    "        optimizer.zero_grad()\n",
    "        loss.backward() \n",
    "        optimizer.step()\n",
    "        avg_loss += loss.item() / len(train_dl)\n",
    "          \n",
    "    #Set model to validation configuration\n",
    "    model.eval() # Indicator for Validation       \n",
    "    avg_val_loss = 0.\n",
    "    val_preds = np.zeros((len(x_cv),len(le.classes_)))\n",
    "    \n",
    "    for i, (x_batch, y_batch) in enumerate(val_dl):\n",
    "        y_pred = model(x_batch).detach()\n",
    "        avg_val_loss += loss_fn(y_pred, y_batch).item() / len(val_dl)\n",
    "\n",
    "        #keep/store predictions\n",
    "        val_preds[i * batch_size:(i+1) * batch_size] =F.softmax(y_pred).cpu().numpy()\n",
    "          \n",
    "    # Check Accuracy\n",
    "    val_accuracy = sum(val_preds.argmax(axis=1)==y_test)/len(y_test)\n",
    "    train_loss.append(avg_loss)\n",
    "    valid_loss.append(avg_val_loss)\n",
    "    elapsed_time = time.time() - start_time \n",
    "    print('Epoch {}/{} \\t loss={:.4f} \\t val_loss={:.4f}  \\t val_acc={:.4f}  \\t time={:.2f}s'.format(epoch + 1, n_epochs, avg_loss, avg_val_loss, val_accuracy, elapsed_time))\n",
    "\n"
   ]
  },
  {
   "cell_type": "markdown",
   "metadata": {},
   "source": [
    "# Plotting the Loss"
   ]
  },
  {
   "cell_type": "code",
   "execution_count": null,
   "metadata": {},
   "outputs": [],
   "source": [
    "#loss vs epoch graph\n",
    "def plot_graph(epochs):\n",
    "    fig = plt.figure(figsize=(6,6))\n",
    "    plt.title(\"Train/Validation Loss\")\n",
    "    plt.plot(list(np.arange(epochs) + 1) , train_loss, label='train') # X axis \n",
    "    plt.plot(list(np.arange(epochs) + 1), valid_loss, label='validation') # Y axis\n",
    "    plt.xlabel('num_epochs', fontsize=12)\n",
    "    plt.ylabel('loss', fontsize=12)\n",
    "    plt.legend(loc='best')"
   ]
  },
  {
   "cell_type": "code",
   "execution_count": null,
   "metadata": {},
   "outputs": [],
   "source": [
    "plot_graph(n_epochs)"
   ]
  },
  {
   "cell_type": "markdown",
   "metadata": {},
   "source": [
    "# Prediction"
   ]
  },
  {
   "cell_type": "markdown",
   "metadata": {},
   "source": [
    "## Process test data"
   ]
  },
  {
   "cell_type": "code",
   "execution_count": null,
   "metadata": {},
   "outputs": [],
   "source": [
    "#test_df['title'] = test_df['title'].apply(clean_text) #apply the function to every text in the dataset\n",
    "#test_df"
   ]
  },
  {
   "cell_type": "code",
   "execution_count": null,
   "metadata": {},
   "outputs": [],
   "source": [
    "#tokenizer.fit_on_texts(test_df['title'].values)\n",
    "#word_index = tokenizer.word_index\n",
    "#print('Found %s unique tokens.' % len(word_index))"
   ]
  },
  {
   "cell_type": "code",
   "execution_count": null,
   "metadata": {},
   "outputs": [],
   "source": [
    "#Tokenizing the content\n",
    "#X = tokenizer.texts_to_sequences(test_df['title'].values)\n",
    "#X = pad_sequences(X, maxlen=MAX_SEQUENCE_LENGTH)\n",
    "#print('Shape of data tensor:', X.shape[1])"
   ]
  },
  {
   "cell_type": "code",
   "execution_count": null,
   "metadata": {},
   "outputs": [],
   "source": [
    "### Make predictions"
   ]
  },
  {
   "cell_type": "code",
   "execution_count": null,
   "metadata": {},
   "outputs": [],
   "source": [
    "#model.predict(X,128,64)"
   ]
  },
  {
   "cell_type": "markdown",
   "metadata": {},
   "source": [
    "### Visualize confusion matrix"
   ]
  },
  {
   "cell_type": "code",
   "execution_count": 58,
   "metadata": {},
   "outputs": [],
   "source": [
    "#conf_mat = confusion_matrix(y_test, y_pred)"
   ]
  },
  {
   "cell_type": "code",
   "execution_count": null,
   "metadata": {},
   "outputs": [],
   "source": [
    "#conf_mat"
   ]
  },
  {
   "cell_type": "code",
   "execution_count": 60,
   "metadata": {},
   "outputs": [],
   "source": [
    "#conf_mat = pd.DataFrame(conf_mat, columns=model.classes_, index=model.classes_)"
   ]
  },
  {
   "cell_type": "code",
   "execution_count": null,
   "metadata": {},
   "outputs": [],
   "source": [
    "#conf_mat"
   ]
  },
  {
   "cell_type": "code",
   "execution_count": null,
   "metadata": {},
   "outputs": [],
   "source": [
    "#sns.heatmap(conf_mat)\n",
    "#plt.show()"
   ]
  },
  {
   "cell_type": "code",
   "execution_count": null,
   "metadata": {},
   "outputs": [],
   "source": [
    "# Metrics Performance\n",
    "#print(classification_report(y_test,y_pred))"
   ]
  },
  {
   "cell_type": "code",
   "execution_count": null,
   "metadata": {},
   "outputs": [],
   "source": []
  },
  {
   "cell_type": "code",
   "execution_count": null,
   "metadata": {},
   "outputs": [],
   "source": []
  },
  {
   "cell_type": "code",
   "execution_count": null,
   "metadata": {},
   "outputs": [],
   "source": []
  }
 ],
 "metadata": {
  "kernelspec": {
   "display_name": "Python 3",
   "language": "python",
   "name": "python3"
  },
  "language_info": {
   "codemirror_mode": {
    "name": "ipython",
    "version": 3
   },
   "file_extension": ".py",
   "mimetype": "text/x-python",
   "name": "python",
   "nbconvert_exporter": "python",
   "pygments_lexer": "ipython3",
   "version": "3.8.3"
  }
 },
 "nbformat": 4,
 "nbformat_minor": 2
}
